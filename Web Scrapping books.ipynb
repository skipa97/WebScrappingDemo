{
 "cells": [
  {
   "cell_type": "code",
   "execution_count": null,
   "metadata": {},
   "outputs": [],
   "source": [
    "import requests\n",
    "from bs4 import BeautifulSoup\n",
    "import pandas as pd"
   ]
  },
  {
   "cell_type": "code",
   "execution_count": null,
   "metadata": {},
   "outputs": [],
   "source": [
    "books = []\n",
    "for i in range (1, 51):\n",
    "    url = f\"https://books.toscrape.com/catalogue/page-{i}.html\"\n",
    "    response = requests.get(url)\n",
    "    response = response.content\n",
    "    #we are passing the data to a html in python, this way you dont need to use google inspect. fckn amazing\n",
    "    soup = BeautifulSoup(response, 'html.parser')\n",
    "    ol = soup.find('ol')\n",
    "    articles = ol.find_all('article', class_='product_pod')\n",
    "   \n",
    "    \n",
    "\n",
    "    try:\n",
    "        for i in articles:\n",
    "            image = i.find('img')\n",
    "            title = image.attrs['alt']\n",
    "            star = i.find('p')\n",
    "            star = star['class'][1]\n",
    "            price = i.find('p', class_='price_color').text\n",
    "            availability = i.find('p',class_=\"instock availability\").text\n",
    "            #availability = availability.attrs['icon-ok']\n",
    "            price = float(price[1:])\n",
    "\n",
    "            books.append([title,price, star,availability])\n",
    "           # print(availability)\n",
    "        \n",
    "    except:\n",
    "            print(\"something went wrong!\")"
   ]
  },
  {
   "cell_type": "code",
   "execution_count": null,
   "metadata": {},
   "outputs": [],
   "source": [
    "# for i in articles:\n",
    "#         image = i.find('img')\n",
    "#         title = image.attrs['alt']\n",
    "#         star = i.find('p')\n",
    "#         star = star['class'][1]\n",
    "#         price = i.find('p', class_='price_color').text\n",
    "#         availability = i.find('p',class_=\"instock availability\").text\n",
    "#         #availability = availability.attrs['icon-ok']\n",
    "#         price = float(price[1:])\n",
    "\n",
    "#         books.append([title,price, star])\n",
    "#        # print(availability)"
   ]
  },
  {
   "cell_type": "code",
   "execution_count": null,
   "metadata": {},
   "outputs": [],
   "source": [
    "df_books = pd.DataFrame(books, columns=['Title','Price','Star Rating',\"Availability\"])\n",
    "df_books"
   ]
  },
  {
   "cell_type": "code",
   "execution_count": null,
   "metadata": {
    "scrolled": true
   },
   "outputs": [],
   "source": [
    "#cleaning the Availability columnm, removing new line charecters\n",
    "df_books = df_books.replace('\\n','', regex=True)\n",
    "df_books"
   ]
  }
 ],
 "metadata": {
  "kernelspec": {
   "display_name": "Python 3",
   "language": "python",
   "name": "python3"
  },
  "language_info": {
   "codemirror_mode": {
    "name": "ipython",
    "version": 3
   },
   "file_extension": ".py",
   "mimetype": "text/x-python",
   "name": "python",
   "nbconvert_exporter": "python",
   "pygments_lexer": "ipython3",
   "version": "3.7.6"
  }
 },
 "nbformat": 4,
 "nbformat_minor": 4
}
